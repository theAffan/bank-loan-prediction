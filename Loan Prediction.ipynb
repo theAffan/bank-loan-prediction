{
 "cells": [
  {
   "cell_type": "code",
   "execution_count": 682,
   "id": "eb1c5ece",
   "metadata": {},
   "outputs": [
    {
     "name": "stdout",
     "output_type": "stream",
     "text": [
      "(614, 13)\n",
      "(367, 12)\n"
     ]
    }
   ],
   "source": [
    "import pandas as pd;\n",
    "\n",
    "train = \"./data_set/train_data.csv\";\n",
    "train = pd.read_csv(train);\n",
    "\n",
    "test = \"./data_set/test_data.csv\";\n",
    "test = pd.read_csv(test);\n",
    "\n",
    "\n",
    "print(train.shape)\n",
    "#we have 614 rows and 13 columns in train data set\n",
    "#classification problem\n",
    "#given all the 12 variables we have to determine if the applicant will be allowed to take loan from bank or not\n",
    "#thus loan_status will be predicted\n",
    "\n",
    "print(test.shape)\n",
    "#we have 367 rows and 12 columns in test data set since last column of loan_status is not included"
   ]
  },
  {
   "cell_type": "code",
   "execution_count": 683,
   "id": "3115e994",
   "metadata": {},
   "outputs": [
    {
     "name": "stdout",
     "output_type": "stream",
     "text": [
      "<class 'pandas.core.frame.DataFrame'>\n",
      "RangeIndex: 614 entries, 0 to 613\n",
      "Data columns (total 13 columns):\n",
      " #   Column             Non-Null Count  Dtype  \n",
      "---  ------             --------------  -----  \n",
      " 0   Loan_ID            614 non-null    object \n",
      " 1   Gender             601 non-null    object \n",
      " 2   Married            611 non-null    object \n",
      " 3   Dependents         599 non-null    object \n",
      " 4   Education          614 non-null    object \n",
      " 5   Self_Employed      582 non-null    object \n",
      " 6   ApplicantIncome    614 non-null    int64  \n",
      " 7   CoapplicantIncome  614 non-null    float64\n",
      " 8   LoanAmount         592 non-null    float64\n",
      " 9   Loan_Amount_Term   600 non-null    float64\n",
      " 10  Credit_History     564 non-null    float64\n",
      " 11  Property_Area      614 non-null    object \n",
      " 12  Loan_Status        614 non-null    object \n",
      "dtypes: float64(4), int64(1), object(8)\n",
      "memory usage: 62.5+ KB\n"
     ]
    },
    {
     "data": {
      "text/html": [
       "<div>\n",
       "<style scoped>\n",
       "    .dataframe tbody tr th:only-of-type {\n",
       "        vertical-align: middle;\n",
       "    }\n",
       "\n",
       "    .dataframe tbody tr th {\n",
       "        vertical-align: top;\n",
       "    }\n",
       "\n",
       "    .dataframe thead th {\n",
       "        text-align: right;\n",
       "    }\n",
       "</style>\n",
       "<table border=\"1\" class=\"dataframe\">\n",
       "  <thead>\n",
       "    <tr style=\"text-align: right;\">\n",
       "      <th></th>\n",
       "      <th>Loan_ID</th>\n",
       "      <th>Gender</th>\n",
       "      <th>Married</th>\n",
       "      <th>Dependents</th>\n",
       "      <th>Education</th>\n",
       "      <th>Self_Employed</th>\n",
       "      <th>ApplicantIncome</th>\n",
       "      <th>CoapplicantIncome</th>\n",
       "      <th>LoanAmount</th>\n",
       "      <th>Loan_Amount_Term</th>\n",
       "      <th>Credit_History</th>\n",
       "      <th>Property_Area</th>\n",
       "      <th>Loan_Status</th>\n",
       "    </tr>\n",
       "  </thead>\n",
       "  <tbody>\n",
       "    <tr>\n",
       "      <th>0</th>\n",
       "      <td>LP001002</td>\n",
       "      <td>Male</td>\n",
       "      <td>No</td>\n",
       "      <td>0</td>\n",
       "      <td>Graduate</td>\n",
       "      <td>No</td>\n",
       "      <td>5849</td>\n",
       "      <td>0.0</td>\n",
       "      <td>NaN</td>\n",
       "      <td>360.0</td>\n",
       "      <td>1.0</td>\n",
       "      <td>Urban</td>\n",
       "      <td>Y</td>\n",
       "    </tr>\n",
       "    <tr>\n",
       "      <th>1</th>\n",
       "      <td>LP001003</td>\n",
       "      <td>Male</td>\n",
       "      <td>Yes</td>\n",
       "      <td>1</td>\n",
       "      <td>Graduate</td>\n",
       "      <td>No</td>\n",
       "      <td>4583</td>\n",
       "      <td>1508.0</td>\n",
       "      <td>128.0</td>\n",
       "      <td>360.0</td>\n",
       "      <td>1.0</td>\n",
       "      <td>Rural</td>\n",
       "      <td>N</td>\n",
       "    </tr>\n",
       "    <tr>\n",
       "      <th>2</th>\n",
       "      <td>LP001005</td>\n",
       "      <td>Male</td>\n",
       "      <td>Yes</td>\n",
       "      <td>0</td>\n",
       "      <td>Graduate</td>\n",
       "      <td>Yes</td>\n",
       "      <td>3000</td>\n",
       "      <td>0.0</td>\n",
       "      <td>66.0</td>\n",
       "      <td>360.0</td>\n",
       "      <td>1.0</td>\n",
       "      <td>Urban</td>\n",
       "      <td>Y</td>\n",
       "    </tr>\n",
       "    <tr>\n",
       "      <th>3</th>\n",
       "      <td>LP001006</td>\n",
       "      <td>Male</td>\n",
       "      <td>Yes</td>\n",
       "      <td>0</td>\n",
       "      <td>Not Graduate</td>\n",
       "      <td>No</td>\n",
       "      <td>2583</td>\n",
       "      <td>2358.0</td>\n",
       "      <td>120.0</td>\n",
       "      <td>360.0</td>\n",
       "      <td>1.0</td>\n",
       "      <td>Urban</td>\n",
       "      <td>Y</td>\n",
       "    </tr>\n",
       "    <tr>\n",
       "      <th>4</th>\n",
       "      <td>LP001008</td>\n",
       "      <td>Male</td>\n",
       "      <td>No</td>\n",
       "      <td>0</td>\n",
       "      <td>Graduate</td>\n",
       "      <td>No</td>\n",
       "      <td>6000</td>\n",
       "      <td>0.0</td>\n",
       "      <td>141.0</td>\n",
       "      <td>360.0</td>\n",
       "      <td>1.0</td>\n",
       "      <td>Urban</td>\n",
       "      <td>Y</td>\n",
       "    </tr>\n",
       "  </tbody>\n",
       "</table>\n",
       "</div>"
      ],
      "text/plain": [
       "    Loan_ID Gender Married Dependents     Education Self_Employed  \\\n",
       "0  LP001002   Male      No          0      Graduate            No   \n",
       "1  LP001003   Male     Yes          1      Graduate            No   \n",
       "2  LP001005   Male     Yes          0      Graduate           Yes   \n",
       "3  LP001006   Male     Yes          0  Not Graduate            No   \n",
       "4  LP001008   Male      No          0      Graduate            No   \n",
       "\n",
       "   ApplicantIncome  CoapplicantIncome  LoanAmount  Loan_Amount_Term  \\\n",
       "0             5849                0.0         NaN             360.0   \n",
       "1             4583             1508.0       128.0             360.0   \n",
       "2             3000                0.0        66.0             360.0   \n",
       "3             2583             2358.0       120.0             360.0   \n",
       "4             6000                0.0       141.0             360.0   \n",
       "\n",
       "   Credit_History Property_Area Loan_Status  \n",
       "0             1.0         Urban           Y  \n",
       "1             1.0         Rural           N  \n",
       "2             1.0         Urban           Y  \n",
       "3             1.0         Urban           Y  \n",
       "4             1.0         Urban           Y  "
      ]
     },
     "execution_count": 683,
     "metadata": {},
     "output_type": "execute_result"
    }
   ],
   "source": [
    "train.info()\n",
    "train.head()"
   ]
  },
  {
   "cell_type": "code",
   "execution_count": 684,
   "id": "3a51367c",
   "metadata": {},
   "outputs": [],
   "source": [
    "#cleaning and pre processing data\n",
    "data = pd.concat([train,test])\n",
    "\n",
    "#dropping id\n",
    "data = data.drop(\"Loan_ID\",axis = \"columns\")\n"
   ]
  },
  {
   "cell_type": "code",
   "execution_count": 685,
   "id": "887554ff",
   "metadata": {},
   "outputs": [
    {
     "name": "stdout",
     "output_type": "stream",
     "text": [
      "0    Male\n",
      "Name: Gender, dtype: object\n",
      "0    Yes\n",
      "Name: Married, dtype: object\n",
      "0    0\n",
      "Name: Dependents, dtype: object\n",
      "0    No\n",
      "Name: Self_Employed, dtype: object\n",
      "0    1.0\n",
      "Name: Credit_History, dtype: float64\n"
     ]
    }
   ],
   "source": [
    "#for missing values\n",
    "data.isnull().any()\n",
    "\n",
    "#for nan values in categorical columns, replacing nan with most frequetly occuring value \n",
    "\n",
    "#1st  categorical variable with null values variable gender\n",
    "print(data['Gender'].mode())\n",
    "data['Gender'].fillna('Male',inplace = True)\n",
    "\n",
    "#2nd  categorical variable with null values variable martial status\n",
    "print(data['Married'].mode())\n",
    "data['Married'].fillna('Yes',inplace = True)\n",
    "\n",
    "#3rd  categorical variable with null values variable dependent\n",
    "print(data['Dependents'].mode())\n",
    "data['Dependents'].fillna(0,inplace = True)\n",
    "\n",
    "#4th categorical variable with null values self employed\n",
    "print(data['Self_Employed'].mode())\n",
    "data['Self_Employed'].fillna('No',inplace = True)\n",
    "\n",
    "#5th categorical variable with null values credit history\n",
    "print(data['Credit_History'].mode())\n",
    "data['Credit_History'].fillna(1,inplace = True)\n",
    "\n",
    "\n",
    "#try1\n",
    "#since number of non nan data fields is very less in terms of non categorical columns dropping these cols\n",
    "#data.dropna(subset=['LoanAmount','Loan_Amount_Term'],inplace = True)\n",
    "#data.head()\n",
    "\n",
    "#try2\n",
    "#for nan values in non categorical columns ie [loan amount and loan amount term] replacing with mean \n",
    "mean_value = data['LoanAmount'].mean()\n",
    "data['LoanAmount'].fillna(mean_value,inplace = True)\n",
    "\n",
    "mean_value = data['Loan_Amount_Term'].mean()\n",
    "data['Loan_Amount_Term'].fillna(mean_value,inplace = True)\n"
   ]
  },
  {
   "cell_type": "code",
   "execution_count": 686,
   "id": "f80e7bd5",
   "metadata": {},
   "outputs": [
    {
     "data": {
      "image/png": "[encoded data removed]",
      "text/plain": [
       "<Figure size 1152x648 with 8 Axes>"
      ]
     },
     "metadata": {
      "needs_background": "light"
     },
     "output_type": "display_data"
    }
   ],
   "source": [
    "#Exploratory Data Analysis\n",
    "\n",
    "import matplotlib.pyplot as plt\n",
    "import seaborn as sns\n",
    "\n",
    "fig, axs = plt.subplots(2,4,figsize=(16,9))\n",
    "\n",
    "count = data['Gender'].value_counts()\n",
    "plt.subplot(2,4,1)\n",
    "plt.bar(count.index.map(str),count.values,color = [\"orange\",\"green\"])\n",
    "plt.title(\"Gender\")\n",
    "\n",
    "count = data['Loan_Status'].value_counts()\n",
    "plt.subplot(2,4,2)\n",
    "plt.bar(count.index.map(str),count.values,color = [\"orange\",\"green\"])\n",
    "plt.title(\"Loan status\")\n",
    "\n",
    "count = data['Married'].value_counts()\n",
    "plt.subplot(2,4,3)\n",
    "plt.bar(count.index.map(str),count.values,color = [\"orange\",\"green\"])\n",
    "plt.title(\"Married\")\n",
    "\n",
    "count = data['Education'].value_counts()\n",
    "plt.subplot(2,4,4)\n",
    "plt.bar(count.index.map(str),count.values,color = [\"orange\",\"green\"])\n",
    "plt.title(\"Education\")\n",
    "\n",
    "count = data['Self_Employed'].value_counts()\n",
    "plt.subplot(2,4,5)\n",
    "plt.bar(count.index.map(str),count.values,color = [\"orange\",\"green\"])\n",
    "plt.title(\"Self Employed\")\n",
    "\n",
    "count = data['Property_Area'].value_counts()\n",
    "plt.subplot(2,4,6)\n",
    "plt.bar(count.index.map(str),count.values,color = [\"orange\",\"green\"])\n",
    "plt.title(\"Property Area\")\n",
    "\n",
    "count = data['Credit_History'].value_counts()\n",
    "plt.subplot(2,4,7)\n",
    "plt.bar(count.index.map(str),count.values,color = [\"orange\",\"green\"])\n",
    "plt.title(\"Credit History\")\n",
    "\n",
    "count = data['Dependents'].value_counts()\n",
    "plt.subplot(2,4,8)\n",
    "plt.bar(count.index.map(str),count.values)\n",
    "plt.title(\"Dependents\")\n",
    "\n",
    "plt.show()"
   ]
  },
  {
   "cell_type": "code",
   "execution_count": 687,
   "id": "1cb78f70",
   "metadata": {},
   "outputs": [
    {
     "data": {
      "image/png": "[encoded data removed]",
      "text/plain": [
       "<Figure size 1080x360 with 1 Axes>"
      ]
     },
     "metadata": {
      "needs_background": "light"
     },
     "output_type": "display_data"
    }
   ],
   "source": [
    "#Exploration of gender in relation to loan approvals\n",
    "plt.figure(figsize=(15,5))\n",
    "sns.countplot(x='Gender', hue='Loan_Status', data=data);\n",
    "\n",
    "#No pattern here males as well as females get loans in similar hit ratio"
   ]
  },
  {
   "cell_type": "code",
   "execution_count": 688,
   "id": "6461e7c9",
   "metadata": {},
   "outputs": [
    {
     "data": {
      "image/png": "[encoded data removed]",
      "text/plain": [
       "<Figure size 1080x360 with 1 Axes>"
      ]
     },
     "metadata": {
      "needs_background": "light"
     },
     "output_type": "display_data"
    }
   ],
   "source": [
    "#Exploration of credit history\n",
    "\n",
    "plt.figure(figsize=(15,5))\n",
    "sns.violinplot(x='Loan_Status', y='Credit_History', data=data);\n",
    "\n",
    "#It can be seen that if you got a Credit History = 1, you have a better chance to get a loan. \n",
    "#This is an important feature for our future analysis. But we can clearly see this is actually a categorical \n",
    "#variable, as we can see that it is 1 or 2"
   ]
  },
  {
   "cell_type": "code",
   "execution_count": 689,
   "id": "adea228f",
   "metadata": {},
   "outputs": [
    {
     "data": {
      "text/plain": [
       "<AxesSubplot:xlabel='Married', ylabel='count'>"
      ]
     },
     "execution_count": 689,
     "metadata": {},
     "output_type": "execute_result"
    },
    {
     "data": {
      "image/png": "[encoded data removed]",
      "text/plain": [
       "<Figure size 1080x360 with 1 Axes>"
      ]
     },
     "metadata": {
      "needs_background": "light"
     },
     "output_type": "display_data"
    }
   ],
   "source": [
    "#Exploration of marriage in relation to loan approvals\n",
    "\n",
    "plt.figure(figsize=(15,5))\n",
    "sns.countplot(x=\"Married\",hue=\"Loan_Status\",data=data)\n",
    "\n",
    "#Married people have a better chance of getting a loan"
   ]
  },
  {
   "cell_type": "code",
   "execution_count": 690,
   "id": "e435be1a",
   "metadata": {},
   "outputs": [
    {
     "data": {
      "text/plain": [
       "<AxesSubplot:xlabel='Education', ylabel='count'>"
      ]
     },
     "execution_count": 690,
     "metadata": {},
     "output_type": "execute_result"
    },
    {
     "data": {
      "image/png": "[encoded data removed]",
      "text/plain": [
       "<Figure size 1080x360 with 1 Axes>"
      ]
     },
     "metadata": {
      "needs_background": "light"
     },
     "output_type": "display_data"
    }
   ],
   "source": [
    "#Exploration of education\n",
    "\n",
    "plt.figure(figsize=(15,5))\n",
    "sns.countplot(x=\"Education\", hue=\"Loan_Status\",data=data)\n",
    "\n",
    "#Graduates have better chance of loan approval can be deemed as an important feature"
   ]
  },
  {
   "cell_type": "code",
   "execution_count": 691,
   "id": "56fa26f1",
   "metadata": {},
   "outputs": [
    {
     "data": {
      "text/plain": [
       "<AxesSubplot:xlabel='Self_Employed', ylabel='count'>"
      ]
     },
     "execution_count": 691,
     "metadata": {},
     "output_type": "execute_result"
    },
    {
     "data": {
      "image/png": "[encoded data removed]",
      "text/plain": [
       "<Figure size 1080x360 with 1 Axes>"
      ]
     },
     "metadata": {
      "needs_background": "light"
     },
     "output_type": "display_data"
    }
   ],
   "source": [
    "#Exploration of self-employement category\n",
    "\n",
    "plt.figure(figsize=(15,5))\n",
    "sns.countplot(x=\"Self_Employed\", hue=\"Loan_Status\",data=data)\n",
    "\n",
    "#same ratio of approvals in case of both categories ie people who are self employed as well as people who are not, not an important feature"
   ]
  },
  {
   "cell_type": "code",
   "execution_count": 692,
   "id": "cad48567",
   "metadata": {},
   "outputs": [
    {
     "data": {
      "text/plain": [
       "<AxesSubplot:xlabel='Property_Area', ylabel='count'>"
      ]
     },
     "execution_count": 692,
     "metadata": {},
     "output_type": "execute_result"
    },
    {
     "data": {
      "image/png": "[encoded data removed]",
      "text/plain": [
       "<Figure size 1080x360 with 1 Axes>"
      ]
     },
     "metadata": {
      "needs_background": "light"
     },
     "output_type": "display_data"
    }
   ],
   "source": [
    "#Exploration of Property area\n",
    "\n",
    "plt.figure(figsize=(15,5))\n",
    "sns.countplot(x=\"Property_Area\", hue=\"Loan_Status\",data=data)\n",
    "\n",
    "#People in semi urban areas have higher chances of loan approval"
   ]
  },
  {
   "cell_type": "code",
   "execution_count": 693,
   "id": "748acad8",
   "metadata": {},
   "outputs": [
    {
     "data": {
      "text/plain": [
       "<AxesSubplot:xlabel='Dependents', ylabel='count'>"
      ]
     },
     "execution_count": 693,
     "metadata": {},
     "output_type": "execute_result"
    },
    {
     "data": {
      "image/png": "[encoded data removed]",
      "text/plain": [
       "<Figure size 1080x360 with 1 Axes>"
      ]
     },
     "metadata": {
      "needs_background": "light"
     },
     "output_type": "display_data"
    }
   ],
   "source": [
    "#Exploration of Dependents\n",
    "\n",
    "plt.figure(figsize=(15,5))\n",
    "sns.countplot(x=\"Dependents\", hue=\"Loan_Status\",data=data)\n",
    "\n",
    "#if applicants have zero dependent members they have higher approval rates"
   ]
  },
  {
   "cell_type": "code",
   "execution_count": 694,
   "id": "5dd0bf43",
   "metadata": {},
   "outputs": [
    {
     "data": {
      "text/html": [
       "<div>\n",
       "<style scoped>\n",
       "    .dataframe tbody tr th:only-of-type {\n",
       "        vertical-align: middle;\n",
       "    }\n",
       "\n",
       "    .dataframe tbody tr th {\n",
       "        vertical-align: top;\n",
       "    }\n",
       "\n",
       "    .dataframe thead th {\n",
       "        text-align: right;\n",
       "    }\n",
       "</style>\n",
       "<table border=\"1\" class=\"dataframe\">\n",
       "  <thead>\n",
       "    <tr style=\"text-align: right;\">\n",
       "      <th></th>\n",
       "      <th>ApplicantIncome</th>\n",
       "      <th>CoapplicantIncome</th>\n",
       "      <th>LoanAmount</th>\n",
       "      <th>Loan_Amount_Term</th>\n",
       "      <th>Credit_History</th>\n",
       "    </tr>\n",
       "  </thead>\n",
       "  <tbody>\n",
       "    <tr>\n",
       "      <th>ApplicantIncome</th>\n",
       "      <td>1.000000</td>\n",
       "      <td>-0.114247</td>\n",
       "      <td>0.547188</td>\n",
       "      <td>-0.023051</td>\n",
       "      <td>0.020201</td>\n",
       "    </tr>\n",
       "    <tr>\n",
       "      <th>CoapplicantIncome</th>\n",
       "      <td>-0.114247</td>\n",
       "      <td>1.000000</td>\n",
       "      <td>0.178449</td>\n",
       "      <td>-0.043705</td>\n",
       "      <td>-0.011531</td>\n",
       "    </tr>\n",
       "    <tr>\n",
       "      <th>LoanAmount</th>\n",
       "      <td>0.547188</td>\n",
       "      <td>0.178449</td>\n",
       "      <td>1.000000</td>\n",
       "      <td>0.054827</td>\n",
       "      <td>-0.003577</td>\n",
       "    </tr>\n",
       "    <tr>\n",
       "      <th>Loan_Amount_Term</th>\n",
       "      <td>-0.023051</td>\n",
       "      <td>-0.043705</td>\n",
       "      <td>0.054827</td>\n",
       "      <td>1.000000</td>\n",
       "      <td>-0.018377</td>\n",
       "    </tr>\n",
       "    <tr>\n",
       "      <th>Credit_History</th>\n",
       "      <td>0.020201</td>\n",
       "      <td>-0.011531</td>\n",
       "      <td>-0.003577</td>\n",
       "      <td>-0.018377</td>\n",
       "      <td>1.000000</td>\n",
       "    </tr>\n",
       "  </tbody>\n",
       "</table>\n",
       "</div>"
      ],
      "text/plain": [
       "                   ApplicantIncome  CoapplicantIncome  LoanAmount  \\\n",
       "ApplicantIncome           1.000000          -0.114247    0.547188   \n",
       "CoapplicantIncome        -0.114247           1.000000    0.178449   \n",
       "LoanAmount                0.547188           0.178449    1.000000   \n",
       "Loan_Amount_Term         -0.023051          -0.043705    0.054827   \n",
       "Credit_History            0.020201          -0.011531   -0.003577   \n",
       "\n",
       "                   Loan_Amount_Term  Credit_History  \n",
       "ApplicantIncome           -0.023051        0.020201  \n",
       "CoapplicantIncome         -0.043705       -0.011531  \n",
       "LoanAmount                 0.054827       -0.003577  \n",
       "Loan_Amount_Term           1.000000       -0.018377  \n",
       "Credit_History            -0.018377        1.000000  "
      ]
     },
     "execution_count": 694,
     "metadata": {},
     "output_type": "execute_result"
    }
   ],
   "source": [
    "data.corr()"
   ]
  },
  {
   "cell_type": "code",
   "execution_count": 695,
   "id": "80a06667",
   "metadata": {},
   "outputs": [],
   "source": [
    "#Feature extraction\n",
    "\n",
    "#As we saw earlier, there are some features that seem more useful for this project than others. \n",
    "#Given this, one of our goals will be to drop the following features: ['Loan_ID','ApplicantIncome','LoanAmount', \n",
    "#'Loan_Amount_Term', 'Gender','Self_Employed']; that were declared not interesting during the previous discussion.\n",
    "\n",
    "\n",
    "#dropping id\n",
    "data = data.drop(\"Gender\",axis = \"columns\")\n",
    "data = data.drop(\"ApplicantIncome\",axis=\"columns\")\n",
    "data = data.drop(\"LoanAmount\",axis=\"columns\")\n",
    "data = data.drop(\"Loan_Amount_Term\",axis=\"columns\")\n",
    "data = data.drop(\"Self_Employed\",axis=\"columns\")"
   ]
  },
  {
   "cell_type": "code",
   "execution_count": 696,
   "id": "d4f48264",
   "metadata": {},
   "outputs": [
    {
     "name": "stdout",
     "output_type": "stream",
     "text": [
      "['0' '1' '2' '3+' 0]\n",
      "['Urban' 'Rural' 'Semiurban']\n"
     ]
    }
   ],
   "source": [
    "#we have removed all missing values from data set now mapping non integer values to integer before passing it to model trainers\n",
    "\n",
    "#data['Gender'] = data['Gender'].map({'Male':0,'Female':'1'}).astype(int)\n",
    "\n",
    "data['Married'] = data['Married'].map({'Yes':1,'No':0}).astype(int)\n",
    "\n",
    "print(data['Dependents'].unique())\n",
    "data['Dependents'] = data['Dependents'].map({'1':1, '0':0, '2':2 ,'3+':3,0:0})\n",
    "\n",
    "#data['Self_Employed'] = data['Self_Employed'].map({'No':0,'Yes':1}).astype(int)\n",
    "\n",
    "data['Education'] = data['Education'].map({'Not Graduate':0, 'Graduate':1}).astype(int)\n",
    "\n",
    "data['Credit_History'] = data['Credit_History'].map(int)\n",
    "\n",
    "print(data['Property_Area'].unique())\n",
    "data['Property_Area'] = data['Property_Area'].map({'Urban':0,'Rural':1, 'Semiurban':2}).astype(int)"
   ]
  },
  {
   "cell_type": "code",
   "execution_count": 697,
   "id": "bf56b6f4",
   "metadata": {},
   "outputs": [
    {
     "data": {
      "text/plain": [
       "Married              0\n",
       "Dependents           0\n",
       "Education            0\n",
       "CoapplicantIncome    0\n",
       "Credit_History       0\n",
       "Property_Area        0\n",
       "Loan_Status          0\n",
       "dtype: int64"
      ]
     },
     "execution_count": 697,
     "metadata": {},
     "output_type": "execute_result"
    }
   ],
   "source": [
    "#splitting train data to get new train and new test\n",
    "#since we merged 614 data fields of initial trainset that has loan status in it we will split similarly\n",
    "#RangeIndex: 614 entries, 0 to 613\n",
    "#due to dropping of some data manually recomputing range index (36 values were dropped)\n",
    "new_train = data.iloc[:614]\n",
    "new_test = data.iloc[614:]\n",
    "new_train.isnull().sum()"
   ]
  },
  {
   "cell_type": "code",
   "execution_count": 698,
   "id": "2afe981e",
   "metadata": {},
   "outputs": [
    {
     "name": "stderr",
     "output_type": "stream",
     "text": [
      "C:\\Users\\mihir\\AppData\\Local\\Temp\\ipykernel_7532\\1478414176.py:2: SettingWithCopyWarning: \n",
      "A value is trying to be set on a copy of a slice from a DataFrame.\n",
      "Try using .loc[row_indexer,col_indexer] = value instead\n",
      "\n",
      "See the caveats in the documentation: https://pandas.pydata.org/pandas-docs/stable/user_guide/indexing.html#returning-a-view-versus-a-copy\n",
      "  new_train['Loan_Status'] = new_train['Loan_Status'].map({'Y':1,'N':0}).astype(int)\n"
     ]
    },
    {
     "data": {
      "text/html": [
       "<div>\n",
       "<style scoped>\n",
       "    .dataframe tbody tr th:only-of-type {\n",
       "        vertical-align: middle;\n",
       "    }\n",
       "\n",
       "    .dataframe tbody tr th {\n",
       "        vertical-align: top;\n",
       "    }\n",
       "\n",
       "    .dataframe thead th {\n",
       "        text-align: right;\n",
       "    }\n",
       "</style>\n",
       "<table border=\"1\" class=\"dataframe\">\n",
       "  <thead>\n",
       "    <tr style=\"text-align: right;\">\n",
       "      <th></th>\n",
       "      <th>Married</th>\n",
       "      <th>Dependents</th>\n",
       "      <th>Education</th>\n",
       "      <th>CoapplicantIncome</th>\n",
       "      <th>Credit_History</th>\n",
       "      <th>Property_Area</th>\n",
       "      <th>Loan_Status</th>\n",
       "    </tr>\n",
       "  </thead>\n",
       "  <tbody>\n",
       "    <tr>\n",
       "      <th>Married</th>\n",
       "      <td>1.000000</td>\n",
       "      <td>0.334216</td>\n",
       "      <td>-0.012304</td>\n",
       "      <td>0.075948</td>\n",
       "      <td>0.010938</td>\n",
       "      <td>0.003071</td>\n",
       "      <td>0.091478</td>\n",
       "    </tr>\n",
       "    <tr>\n",
       "      <th>Dependents</th>\n",
       "      <td>0.334216</td>\n",
       "      <td>1.000000</td>\n",
       "      <td>-0.055752</td>\n",
       "      <td>0.030430</td>\n",
       "      <td>-0.040160</td>\n",
       "      <td>0.001781</td>\n",
       "      <td>0.010118</td>\n",
       "    </tr>\n",
       "    <tr>\n",
       "      <th>Education</th>\n",
       "      <td>-0.012304</td>\n",
       "      <td>-0.055752</td>\n",
       "      <td>1.000000</td>\n",
       "      <td>0.062290</td>\n",
       "      <td>0.073658</td>\n",
       "      <td>0.003592</td>\n",
       "      <td>0.085884</td>\n",
       "    </tr>\n",
       "    <tr>\n",
       "      <th>CoapplicantIncome</th>\n",
       "      <td>0.075948</td>\n",
       "      <td>0.030430</td>\n",
       "      <td>0.062290</td>\n",
       "      <td>1.000000</td>\n",
       "      <td>0.011134</td>\n",
       "      <td>-0.028356</td>\n",
       "      <td>-0.059187</td>\n",
       "    </tr>\n",
       "    <tr>\n",
       "      <th>Credit_History</th>\n",
       "      <td>0.010938</td>\n",
       "      <td>-0.040160</td>\n",
       "      <td>0.073658</td>\n",
       "      <td>0.011134</td>\n",
       "      <td>1.000000</td>\n",
       "      <td>0.030248</td>\n",
       "      <td>0.540556</td>\n",
       "    </tr>\n",
       "    <tr>\n",
       "      <th>Property_Area</th>\n",
       "      <td>0.003071</td>\n",
       "      <td>0.001781</td>\n",
       "      <td>0.003592</td>\n",
       "      <td>-0.028356</td>\n",
       "      <td>0.030248</td>\n",
       "      <td>1.000000</td>\n",
       "      <td>0.103253</td>\n",
       "    </tr>\n",
       "    <tr>\n",
       "      <th>Loan_Status</th>\n",
       "      <td>0.091478</td>\n",
       "      <td>0.010118</td>\n",
       "      <td>0.085884</td>\n",
       "      <td>-0.059187</td>\n",
       "      <td>0.540556</td>\n",
       "      <td>0.103253</td>\n",
       "      <td>1.000000</td>\n",
       "    </tr>\n",
       "  </tbody>\n",
       "</table>\n",
       "</div>"
      ],
      "text/plain": [
       "                    Married  Dependents  Education  CoapplicantIncome  \\\n",
       "Married            1.000000    0.334216  -0.012304           0.075948   \n",
       "Dependents         0.334216    1.000000  -0.055752           0.030430   \n",
       "Education         -0.012304   -0.055752   1.000000           0.062290   \n",
       "CoapplicantIncome  0.075948    0.030430   0.062290           1.000000   \n",
       "Credit_History     0.010938   -0.040160   0.073658           0.011134   \n",
       "Property_Area      0.003071    0.001781   0.003592          -0.028356   \n",
       "Loan_Status        0.091478    0.010118   0.085884          -0.059187   \n",
       "\n",
       "                   Credit_History  Property_Area  Loan_Status  \n",
       "Married                  0.010938       0.003071     0.091478  \n",
       "Dependents              -0.040160       0.001781     0.010118  \n",
       "Education                0.073658       0.003592     0.085884  \n",
       "CoapplicantIncome        0.011134      -0.028356    -0.059187  \n",
       "Credit_History           1.000000       0.030248     0.540556  \n",
       "Property_Area            0.030248       1.000000     0.103253  \n",
       "Loan_Status              0.540556       0.103253     1.000000  "
      ]
     },
     "execution_count": 698,
     "metadata": {},
     "output_type": "execute_result"
    }
   ],
   "source": [
    "#mapping yes to 1 and no to 0 in loan status\n",
    "new_train['Loan_Status'] = new_train['Loan_Status'].map({'Y':1,'N':0}).astype(int)\n",
    "\n",
    "new_train.corr()\n",
    "\n",
    "#loan status has strong correlation to credit history"
   ]
  },
  {
   "cell_type": "code",
   "execution_count": 699,
   "id": "9289e474",
   "metadata": {},
   "outputs": [
    {
     "data": {
      "image/png": "[encoded data removed]",
      "text/plain": [
       "<Figure size 720x576 with 2 Axes>"
      ]
     },
     "metadata": {
      "needs_background": "light"
     },
     "output_type": "display_data"
    }
   ],
   "source": [
    "#correlation, with other numeric variables now added\n",
    "\n",
    "fig, ax = plt.subplots(figsize=(10, 8))\n",
    "correlations_ML = new_train.corr()\n",
    "sns.heatmap(correlations_ML, cmap=\"YlGnBu\", annot=True)\n",
    "plt.show()"
   ]
  },
  {
   "cell_type": "code",
   "execution_count": 700,
   "id": "15a91d39",
   "metadata": {},
   "outputs": [],
   "source": [
    "#splitting for dependent and independent/ input(x) and output variables(y)\n",
    "x = new_train.drop('Loan_Status',axis = 'columns')\n",
    "y = new_train['Loan_Status']"
   ]
  },
  {
   "cell_type": "code",
   "execution_count": 701,
   "id": "3a736be5",
   "metadata": {},
   "outputs": [],
   "source": [
    "from sklearn.model_selection import train_test_split\n",
    "x_train, x_test,y_train,y_test = train_test_split(x,y, test_size=0.5)"
   ]
  },
  {
   "cell_type": "code",
   "execution_count": 710,
   "id": "b827f39b",
   "metadata": {},
   "outputs": [
    {
     "name": "stdout",
     "output_type": "stream",
     "text": [
      "              precision    recall  f1-score   support\n",
      "\n",
      "           0       0.88      0.44      0.58        96\n",
      "           1       0.79      0.97      0.87       211\n",
      "\n",
      "    accuracy                           0.80       307\n",
      "   macro avg       0.83      0.70      0.73       307\n",
      "weighted avg       0.82      0.80      0.78       307\n",
      "\n",
      "Accuracy_Score = 0.8045602605863192\n"
     ]
    },
    {
     "data": {
      "image/png": "[encoded data removed]",
      "text/plain": [
       "<Figure size 432x288 with 2 Axes>"
      ]
     },
     "metadata": {
      "needs_background": "light"
     },
     "output_type": "display_data"
    }
   ],
   "source": [
    "#building model using logistic regression\n",
    "from sklearn import metrics\n",
    "from sklearn.linear_model import LogisticRegression\n",
    "\n",
    "logreg = LogisticRegression(max_iter = 1000)\n",
    "logreg.fit(x_train,y_train)\n",
    "\n",
    "#getting accuracy of logistic regression\n",
    "logreg_predict = logreg.predict(x_test)\n",
    "\n",
    "sns.heatmap(metrics.confusion_matrix(y_test, logreg_predict),annot=True)\n",
    "print(metrics.classification_report(y_test,logreg_predict))\n",
    "print(\"Accuracy_Score =\", format(metrics.accuracy_score(y_test, logreg_predict)))"
   ]
  },
  {
   "cell_type": "code",
   "execution_count": 708,
   "id": "71b99245",
   "metadata": {},
   "outputs": [
    {
     "name": "stdout",
     "output_type": "stream",
     "text": [
      "              precision    recall  f1-score   support\n",
      "\n",
      "           0       0.60      0.61      0.61        96\n",
      "           1       0.82      0.81      0.82       211\n",
      "\n",
      "    accuracy                           0.75       307\n",
      "   macro avg       0.71      0.71      0.71       307\n",
      "weighted avg       0.75      0.75      0.75       307\n",
      "\n",
      "Accuracy Score = 0.749185667752443\n"
     ]
    },
    {
     "data": {
      "image/png": "[encoded data removed]",
      "text/plain": [
       "<Figure size 432x288 with 2 Axes>"
      ]
     },
     "metadata": {
      "needs_background": "light"
     },
     "output_type": "display_data"
    }
   ],
   "source": [
    "#Building the model using DecisonTree\n",
    "from sklearn.tree import DecisionTreeClassifier\n",
    "\n",
    "dt_model = DecisionTreeClassifier()\n",
    "dt_model.fit(x_train,y_train)\n",
    "\n",
    "\n",
    "dtree_pred = dt_model.predict(x_test)\n",
    "sns.heatmap(metrics.confusion_matrix(y_test, dtree_pred),annot=True)\n",
    "print(metrics.classification_report(y_test, dtree_pred))\n",
    "print(\"Accuracy Score =\", format(metrics.accuracy_score(y_test,dtree_pred)))"
   ]
  },
  {
   "cell_type": "code",
   "execution_count": 707,
   "id": "a57b482a",
   "metadata": {},
   "outputs": [
    {
     "name": "stdout",
     "output_type": "stream",
     "text": [
      "[[ 48  48]\n",
      " [ 27 184]]\n",
      "              precision    recall  f1-score   support\n",
      "\n",
      "           0       0.64      0.50      0.56        96\n",
      "           1       0.79      0.87      0.83       211\n",
      "\n",
      "    accuracy                           0.76       307\n",
      "   macro avg       0.72      0.69      0.70       307\n",
      "weighted avg       0.75      0.76      0.75       307\n",
      "\n",
      "Accuracy: 0.755700325732899\n"
     ]
    },
    {
     "data": {
      "image/png": "[encoded data removed]",
      "text/plain": [
       "<Figure size 432x288 with 2 Axes>"
      ]
     },
     "metadata": {
      "needs_background": "light"
     },
     "output_type": "display_data"
    }
   ],
   "source": [
    "#random forest classifier\n",
    "from sklearn.ensemble import RandomForestClassifier\n",
    "\n",
    "rf_model = RandomForestClassifier(n_estimators=100)\n",
    "rf_model.fit(x_train, y_train)\n",
    "\n",
    "predict = rf_model.predict(x_test)\n",
    "\n",
    "sns.heatmap(metrics.confusion_matrix(y_test, predict),annot=True)\n",
    "print(metrics.classification_report(y_test, predict))\n",
    "print(\"Accuracy:\", metrics.accuracy_score(predict, y_test))"
   ]
  },
  {
   "cell_type": "code",
   "execution_count": 706,
   "id": "ff9c474b",
   "metadata": {},
   "outputs": [
    {
     "data": {
      "text/plain": [
       "array([1, 1, 1, 1, 0, 1, 1, 0, 1, 1, 0, 1, 1, 0, 1, 1, 1, 1, 1, 1, 1, 0,\n",
       "       1, 0, 1, 0, 1, 1, 1, 1, 1, 1, 1, 1, 1, 0, 1, 1, 1, 1, 1, 1, 1, 1,\n",
       "       1, 1, 1, 1, 1, 1, 1, 1, 1, 1, 1, 0, 1, 1, 0, 1, 1, 1, 1, 0, 1, 1,\n",
       "       0, 0, 1, 0, 1, 1, 1, 1, 1, 1, 1, 1, 1, 1, 0, 1, 0, 1, 0, 1, 1, 1,\n",
       "       1, 1, 1, 1, 1, 1, 0, 1, 1, 1, 1, 1, 1, 0, 1, 1, 1, 1, 0, 1, 1, 1,\n",
       "       1, 1, 1, 1, 1, 1, 1, 0, 0, 0, 1, 1, 1, 0, 0, 1, 0, 1, 1, 1, 1, 1,\n",
       "       1, 1, 1, 1, 1, 1, 1, 1, 0, 1, 0, 1, 1, 1, 1, 0, 1, 1, 1, 1, 1, 0,\n",
       "       1, 1, 1, 1, 1, 1, 1, 0, 1, 1, 1, 0, 0, 1, 0, 1, 1, 1, 1, 0, 0, 1,\n",
       "       1, 1, 1, 1, 1, 1, 1, 1, 1, 1, 1, 1, 1, 1, 1, 1, 0, 0, 1, 1, 0, 1,\n",
       "       0, 1, 1, 1, 1, 1, 1, 1, 1, 1, 1, 1, 1, 0, 1, 1, 1, 1, 1, 1, 1, 1,\n",
       "       1, 1, 1, 1, 0, 1, 1, 1, 1, 0, 1, 1, 1, 1, 1, 0, 0, 1, 1, 1, 0, 0,\n",
       "       1, 0, 1, 0, 1, 1, 1, 1, 0, 1, 1, 1, 1, 0, 1, 1, 1, 1, 1, 1, 1, 1,\n",
       "       1, 1, 0, 1, 0, 1, 1, 1, 1, 0, 0, 1, 1, 1, 0, 1, 1, 1, 1, 1, 1, 1,\n",
       "       1, 1, 1, 1, 1, 1, 1, 0, 1, 1, 1, 1, 1, 1, 1, 0, 1, 1, 1, 1, 1, 1,\n",
       "       1, 1, 1, 0, 1, 1, 1, 1, 1, 0, 1, 1, 1, 1, 1, 1, 1, 0, 1, 1, 1, 1,\n",
       "       1, 1, 1, 1, 1, 1, 0, 1, 1, 0, 1, 1, 1, 1, 1, 1, 0, 0, 1, 1, 1, 1,\n",
       "       1, 1, 0, 1, 1, 1, 1, 1, 1, 1, 1, 1, 1, 1, 1])"
      ]
     },
     "execution_count": 706,
     "metadata": {},
     "output_type": "execute_result"
    }
   ],
   "source": [
    "#finally prediction of our test set\n",
    "new_test=new_test.drop(\"Loan_Status\",axis=\"columns\")\n",
    "model.predict(new_test)"
   ]
  },
  {
   "cell_type": "code",
   "execution_count": null,
   "id": "e8e54071",
   "metadata": {},
   "outputs": [],
   "source": []
  }
 ],
 "metadata": {
  "kernelspec": {
   "display_name": "Python 3 (ipykernel)",
   "language": "python",
   "name": "python3"
  },
  "language_info": {
   "codemirror_mode": {
    "name": "ipython",
    "version": 3
   },
   "file_extension": ".py",
   "mimetype": "text/x-python",
   "name": "python",
   "nbconvert_exporter": "python",
   "pygments_lexer": "ipython3",
   "version": "3.10.2"
  }
 },
 "nbformat": 4,
 "nbformat_minor": 5
}
